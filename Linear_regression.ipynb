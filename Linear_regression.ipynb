{
  "nbformat": 4,
  "nbformat_minor": 0,
  "metadata": {
    "colab": {
      "provenance": []
    },
    "kernelspec": {
      "name": "python3",
      "display_name": "Python 3"
    },
    "language_info": {
      "name": "python"
    }
  },
  "cells": [
    {
      "cell_type": "markdown",
      "source": [
        "# Predict student performance\n",
        "Data comes from: https://archive.ics.uci.edu/dataset/320/student+performance"
      ],
      "metadata": {
        "id": "Qk-r5DeIuhgd"
      }
    },
    {
      "cell_type": "code",
      "source": [
        "#@title import libraries\n",
        "import sklearn\n",
        "from sklearn.model_selection import train_test_split\n",
        "import matplotlib.pyplot as plt\n",
        "from matplotlib import style\n",
        "import numpy as np\n",
        "\n",
        "from tensorflow.keras.layers.experimental.preprocessing import Normalization\n",
        "from sklearn import linear_model\n",
        "\n",
        "\n",
        "!pip install ucimlrepo\n",
        "from ucimlrepo import fetch_ucirepo"
      ],
      "metadata": {
        "colab": {
          "base_uri": "https://localhost:8080/"
        },
        "id": "bL8GkSHVv1Y2",
        "outputId": "3d97a132-e95c-4d88-ef34-545ff67e5b6e"
      },
      "execution_count": 4,
      "outputs": [
        {
          "output_type": "stream",
          "name": "stdout",
          "text": [
            "Requirement already satisfied: ucimlrepo in /usr/local/lib/python3.10/dist-packages (0.0.3)\n"
          ]
        }
      ]
    },
    {
      "cell_type": "code",
      "execution_count": 5,
      "metadata": {
        "id": "GptD5MucsN0i"
      },
      "outputs": [],
      "source": [
        "#@title Fetch dataset\n",
        "student_performance = fetch_ucirepo(id=320)\n",
        "\n",
        "# data (as pandas dataframes)\n",
        "X = student_performance.data.features\n",
        "Y = student_performance.data.targets"
      ]
    },
    {
      "cell_type": "markdown",
      "source": [
        "## I'm not going to use the whole dataset, rather only some columns that I find more useful/interesting\n",
        "- studytime - weekly study time, numeric: 1 - less than 2 hours, 2 - 2 to 5 hours, 3 - 5 to 10 hours, or 4 - more than 10 hours\n",
        "- failures - number of past class failures, numeric: n if 1<=n<3, else 4\n",
        "- schoolsup - extra educational support, binary: yes or no\n",
        "- higher - wants to take higher education, binary: yes or no\n",
        "- absences - number of school absences, numeric 0 - 93\n",
        "- G1 and G2 - first grade, second grade, numeric 0 - 20"
      ],
      "metadata": {
        "id": "TKZNH--m0qZA"
      }
    },
    {
      "cell_type": "code",
      "source": [
        "#@title Preparing data\n",
        "\n",
        "X = X.filter(items=['studytime', 'failures', 'schoolsup', 'higher', 'absences'])\n",
        "grd = Y.filter(items=['G1', 'G2'])\n",
        "X = X.join(grd)\n",
        "print(X.head())\n",
        "x = X.values\n",
        "mask_yes = x == 'yes'\n",
        "mask = mask_yes\n",
        "x[mask] = 1\n",
        "\n",
        "mask_no = x == 'no'\n",
        "mask = mask_no\n",
        "x[mask] = 0\n",
        "x = np.float32(x)\n",
        "Y = Y.filter(items=['G3'])\n",
        "y = Y.values\n",
        "print(x.shape, y.shape)"
      ],
      "metadata": {
        "colab": {
          "base_uri": "https://localhost:8080/"
        },
        "id": "HXCtMLmpxzMj",
        "outputId": "92962d4a-3f23-455f-b7e9-be3766893a79"
      },
      "execution_count": 6,
      "outputs": [
        {
          "output_type": "stream",
          "name": "stdout",
          "text": [
            "   studytime  failures schoolsup higher  absences  G1  G2\n",
            "0          2         0       yes    yes         4   0  11\n",
            "1          2         0        no    yes         2   9  11\n",
            "2          2         0       yes    yes         6  12  13\n",
            "3          3         0        no    yes         0  14  14\n",
            "4          2         0        no    yes         0  11  13\n",
            "(649, 7) (649, 1)\n"
          ]
        }
      ]
    },
    {
      "cell_type": "code",
      "source": [
        "#@title Separate data to training and test sets\n",
        "x_train, x_test, y_train, y_test = train_test_split(x, y, train_size=0.9, random_state=0)\n",
        "\n",
        "print(x_train.shape, x_test.shape, y_train.shape, y_test.shape)"
      ],
      "metadata": {
        "colab": {
          "base_uri": "https://localhost:8080/"
        },
        "id": "NSsaF5Ll_hRR",
        "outputId": "845b32c7-de67-43d7-c9c3-fe9953150949"
      },
      "execution_count": 7,
      "outputs": [
        {
          "output_type": "stream",
          "name": "stdout",
          "text": [
            "(584, 7) (65, 7) (584, 1) (65, 1)\n"
          ]
        }
      ]
    },
    {
      "cell_type": "code",
      "source": [
        "#@title Train model\n",
        "\n",
        "linear = linear_model.LinearRegression()\n",
        "\n",
        "linear.fit(x_train, y_train)\n",
        "acc = linear.score(x_test, y_test)\n",
        "print(acc)\n",
        "\n",
        "print('Coefficient: ', linear.coef_)\n",
        "print('Intercept: ', linear.intercept_)"
      ],
      "metadata": {
        "colab": {
          "base_uri": "https://localhost:8080/"
        },
        "id": "hLUdZSRPF_Wg",
        "outputId": "b57e4ecc-68ee-4e12-da3d-7bd552d11a22"
      },
      "execution_count": 8,
      "outputs": [
        {
          "output_type": "stream",
          "name": "stdout",
          "text": [
            "0.9112659769571074\n",
            "Coefficient:  [[ 0.10189509 -0.21857601 -0.17209136  0.16386868  0.02477208  0.13490522\n",
            "   0.8871041 ]]\n",
            "Intercept:  [-0.272192]\n"
          ]
        }
      ]
    },
    {
      "cell_type": "markdown",
      "source": [
        "## Down here we can visualise how different data may affect the final grade"
      ],
      "metadata": {
        "id": "ga7Tbtf_pIZn"
      }
    },
    {
      "cell_type": "code",
      "source": [
        "#@title Scatter plot\n",
        "\n",
        "p = 'studytime'\n",
        "X_copy = X.copy()\n",
        "X_copy = X_copy.filter(items=[p])\n",
        "style.use('ggplot')\n",
        "plt.scatter(X_copy.values, Y.values)\n",
        "plt.xlabel(p)\n",
        "plt.ylabel('Final grade')"
      ],
      "metadata": {
        "colab": {
          "base_uri": "https://localhost:8080/",
          "height": 470
        },
        "id": "xONDrtNut9fW",
        "outputId": "c9078717-2877-4f40-cb34-fda5e7815efd"
      },
      "execution_count": 9,
      "outputs": [
        {
          "output_type": "execute_result",
          "data": {
            "text/plain": [
              "Text(0, 0.5, 'Final grade')"
            ]
          },
          "metadata": {},
          "execution_count": 9
        },
        {
          "output_type": "display_data",
          "data": {
            "text/plain": [
              "<Figure size 640x480 with 1 Axes>"
            ],
            "image/png": "[encoded data removed]"
          },
          "metadata": {}
        }
      ]
    }
  ]
}