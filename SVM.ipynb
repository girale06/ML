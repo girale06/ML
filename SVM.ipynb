{
  "nbformat": 4,
  "nbformat_minor": 0,
  "metadata": {
    "colab": {
      "provenance": []
    },
    "kernelspec": {
      "name": "python3",
      "display_name": "Python 3"
    },
    "language_info": {
      "name": "python"
    }
  },
  "cells": [
    {
      "cell_type": "markdown",
      "source": [
        "# Support Vector Machine\n",
        "A machine learning algorithm that uses supervised learning models to solve complex classification, regression, and outlier detection problems by performing optimal data transformations that determine boundaries between data points based on predefined classes, labels, or outputs. SVMs are widely adopted across disciplines such as healthcare, natural language processing, signal processing applications, and speech & image recognition fields.\n",
        "\n",
        "Technically, the primary objective of the SVM algorithm is to identify a hyperplane that distinguishably segregates the data points of different classes. The hyperplane is localized in such a manner that the largest margin separates the classes under consideration.\n",
        "\n"
      ],
      "metadata": {
        "id": "DA6sczHZ65So"
      }
    },
    {
      "cell_type": "code",
      "execution_count": 2,
      "metadata": {
        "id": "ppkIQitq5Vag"
      },
      "outputs": [],
      "source": [
        "#@title Imports\n",
        "\n",
        "import sklearn\n",
        "from sklearn import datasets\n",
        "from sklearn import svm\n",
        "from sklearn import metrics\n",
        "import numpy as np\n",
        "import matplotlib.pyplot as plt\n"
      ]
    },
    {
      "cell_type": "code",
      "source": [
        "cancer = datasets.load_breast_cancer()\n",
        "\n",
        "X = cancer.data\n",
        "y = cancer.target\n",
        "\n",
        "print(\"Feature names: \", cancer.feature_names)\n",
        "print(\"Label names: \", cancer.target_names)\n",
        "\n",
        "x_train, x_test, y_train, y_test = sklearn.model_selection.train_test_split(X, y, test_size=0.1)"
      ],
      "metadata": {
        "colab": {
          "base_uri": "https://localhost:8080/"
        },
        "id": "TZoami915qKH",
        "outputId": "7f8e9ec3-6432-4124-b39e-520e9f668cd8"
      },
      "execution_count": 3,
      "outputs": [
        {
          "output_type": "stream",
          "name": "stdout",
          "text": [
            "Feature names:  ['mean radius' 'mean texture' 'mean perimeter' 'mean area'\n",
            " 'mean smoothness' 'mean compactness' 'mean concavity'\n",
            " 'mean concave points' 'mean symmetry' 'mean fractal dimension'\n",
            " 'radius error' 'texture error' 'perimeter error' 'area error'\n",
            " 'smoothness error' 'compactness error' 'concavity error'\n",
            " 'concave points error' 'symmetry error' 'fractal dimension error'\n",
            " 'worst radius' 'worst texture' 'worst perimeter' 'worst area'\n",
            " 'worst smoothness' 'worst compactness' 'worst concavity'\n",
            " 'worst concave points' 'worst symmetry' 'worst fractal dimension']\n",
            "Label names:  ['malignant' 'benign']\n"
          ]
        }
      ]
    },
    {
      "cell_type": "markdown",
      "source": [
        "### Margin\n",
        "The margin is the distance that separates all of the points in our test data. Typically the greater our margin the better our classification will be.\n",
        "- hard margin: no points may exist inside the margin\n",
        "- soft margin: we let outlier points exist inside the margin\n",
        "\n",
        "### Kernels\n",
        "Kernels can be used to bring our data to a higher dimension to create a hyperplane more easily. A kernel is a function that takes as input our features and returns a value equal to the (n+1) dimensional coordinate (n = num of features)."
      ],
      "metadata": {
        "id": "Z1ckdgmU_NCB"
      }
    },
    {
      "cell_type": "markdown",
      "source": [
        "## Using sklearn to implement the SVM algorithm"
      ],
      "metadata": {
        "id": "IOhUtfUj-AJr"
      }
    },
    {
      "cell_type": "code",
      "source": [
        "model = svm.SVC(kernel=\"linear\", C=2)\n",
        "model.fit(x_train, y_train)\n",
        "\n",
        "y_pred = model.predict(x_test)\n",
        "\n",
        "acc = metrics.accuracy_score(y_test, y_pred)\n",
        "\n",
        "print(acc)"
      ],
      "metadata": {
        "colab": {
          "base_uri": "https://localhost:8080/"
        },
        "id": "Tm_ZM_ih94Qw",
        "outputId": "359db29e-fca6-4c8f-a51a-d5c7e788e37f"
      },
      "execution_count": 4,
      "outputs": [
        {
          "output_type": "stream",
          "name": "stdout",
          "text": [
            "0.9473684210526315\n"
          ]
        }
      ]
    },
    {
      "cell_type": "markdown",
      "source": [
        "## Iris dataset\n",
        "\n",
        "The Iris dataset is a multivariate dataset introduced by Ronald Fisher in 1936. It consists of 150 instances of 3 Iris species: Iris setosa, Iris virginica and Iris versicolor. The four considered variables are sepal length, sepal width, petal length and petal width. The classes of the dataset elements can be 0 in the case of Iris setosa, 1 in the case of Iris versicolor or 2 in the case of Iris virginica."
      ],
      "metadata": {
        "id": "_G5sIXFKFMFi"
      }
    },
    {
      "cell_type": "code",
      "source": [
        "iris = datasets.load_iris()\n",
        "\n",
        "X = iris.data    # 4 features\n",
        "y = iris.target  # 0, 1, or 2\n",
        "\n",
        "print(\"Feature names: \", iris.feature_names)\n",
        "print(\"Label names: \", iris.target_names)\n",
        "\n",
        "x_train, x_test, y_train, y_test = sklearn.model_selection.train_test_split(X, y, test_size=0.25)"
      ],
      "metadata": {
        "colab": {
          "base_uri": "https://localhost:8080/"
        },
        "id": "2Yz30cZjFLcC",
        "outputId": "0fa4b5f0-f0ac-47a1-96e2-739aea2f4285"
      },
      "execution_count": 18,
      "outputs": [
        {
          "output_type": "stream",
          "name": "stdout",
          "text": [
            "Feature names:  ['sepal length (cm)', 'sepal width (cm)', 'petal length (cm)', 'petal width (cm)']\n",
            "Label names:  ['setosa' 'versicolor' 'virginica']\n"
          ]
        }
      ]
    },
    {
      "cell_type": "code",
      "source": [
        "model = svm.SVC(kernel=\"rbf\", C=2)\n",
        "model.fit(x_train, y_train)\n",
        "\n",
        "y_pred = model.predict(x_test)\n",
        "\n",
        "acc = metrics.accuracy_score(y_test, y_pred)\n",
        "\n",
        "print(acc)"
      ],
      "metadata": {
        "colab": {
          "base_uri": "https://localhost:8080/"
        },
        "id": "CmFgwe2eHUA7",
        "outputId": "3fdccd97-4768-4b06-f08a-25d07309c697"
      },
      "execution_count": 19,
      "outputs": [
        {
          "output_type": "stream",
          "name": "stdout",
          "text": [
            "1.0\n"
          ]
        }
      ]
    }
  ]
}