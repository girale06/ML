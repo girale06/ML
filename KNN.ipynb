{
  "nbformat": 4,
  "nbformat_minor": 0,
  "metadata": {
    "colab": {
      "provenance": []
    },
    "kernelspec": {
      "name": "python3",
      "display_name": "Python 3"
    },
    "language_info": {
      "name": "python"
    }
  },
  "cells": [
    {
      "cell_type": "markdown",
      "source": [
        "# K-Nearest Neighbors algorithm\n",
        "This algorithm is used for classification and regression.\n",
        "\n",
        "The input consists of the k closest training examples of a dataset. The output depends on whether the algorithm is used for classification or regression.\n",
        "- Classification: the output is a class membership. An object is classified by a plurality vote of its neighbors, with the object being assigned to the class most common among its k nearest neighbors.\n",
        "- Regression: the output is the property value for the object. The value is the average of the values of the k nearest neighbors."
      ],
      "metadata": {
        "id": "5v7XcLQc20tI"
      }
    },
    {
      "cell_type": "code",
      "source": [
        "!pip install ucimlrepo"
      ],
      "metadata": {
        "id": "hz3fQnGh4x-C",
        "colab": {
          "base_uri": "https://localhost:8080/"
        },
        "outputId": "640b391c-2ccb-496c-fcc1-540a186f3997"
      },
      "execution_count": null,
      "outputs": [
        {
          "output_type": "stream",
          "name": "stdout",
          "text": [
            "Collecting ucimlrepo\n",
            "  Downloading ucimlrepo-0.0.3-py3-none-any.whl (7.0 kB)\n",
            "Installing collected packages: ucimlrepo\n",
            "Successfully installed ucimlrepo-0.0.3\n"
          ]
        }
      ]
    },
    {
      "cell_type": "code",
      "execution_count": null,
      "metadata": {
        "id": "Vbqr5O_Z2Fiq"
      },
      "outputs": [],
      "source": [
        "#@title Imports\n",
        "from ucimlrepo import fetch_ucirepo\n",
        "import sklearn\n",
        "from sklearn.utils import shuffle\n",
        "from sklearn.neighbors import KNeighborsClassifier\n",
        "import pandas as pd\n",
        "import numpy as np\n",
        "from sklearn import linear_model, preprocessing"
      ]
    },
    {
      "cell_type": "markdown",
      "source": [
        "## Dataset\n",
        "The dataset comes from https://archive.ics.uci.edu/dataset/19/car+evaluation.\n",
        "The Car Evaluation Database contains examples with the structural information removed, i.e., directly relates CAR to the six input attributes:\n",
        "- buying - buying price - vhigh, high, med, low\n",
        "- maint - price for maintenance - vhigh, high, med, low\n",
        "- doors - number of doors - 2, 3, 4, 5more\n",
        "- persons - capacity in terms of persons to carry - 2, 4, more\n",
        "- lug_boot - size of luggage boot - small, med, big\n",
        "- safety - estimated safety of the car - low, med high\n",
        "\n",
        "The labels we use to categorize the cars:\n",
        "- class - evaulation level - unacc (unacceptable), acc (acceptable), good, vgood (very good)"
      ],
      "metadata": {
        "id": "Avg31faphWRl"
      }
    },
    {
      "cell_type": "code",
      "source": [
        "#@title Fetch dataset\n",
        "car_evaluation = fetch_ucirepo(id=19)\n",
        "\n",
        "# data (as pandas dataframes)\n",
        "X = car_evaluation.data.features\n",
        "y = car_evaluation.data.targets\n",
        "data = X.join(y)\n",
        "\n",
        "# This function will help us resolve the problem arising from the dataset not being numerical\n",
        "le = preprocessing.LabelEncoder()\n",
        "\n",
        "# these are numpy arrays, where the values have been transformed from text to integers\n",
        "buying = le.fit_transform(list(X['buying']))\n",
        "maint = le.fit_transform(list(X['maint']))\n",
        "doors = le.fit_transform(list(X['doors']))\n",
        "persons = le.fit_transform(list(X['persons']))\n",
        "lug_boot = le.fit_transform(list(X['lug_boot']))\n",
        "safety = le.fit_transform(list(X['safety']))\n",
        "class_ = le.fit_transform(list(y['class']))\n",
        "\n",
        "pred = 'class'\n",
        "\n",
        "X = list(zip(buying, maint, doors, persons, lug_boot, safety))\n",
        "y = list(class_)\n",
        "\n",
        "x_train, x_test, y_train, y_test = sklearn.model_selection.train_test_split(X, y, test_size=0.1)\n",
        "print(len(x_train), len(y_train))"
      ],
      "metadata": {
        "id": "w-ffDyNx4Yzv",
        "colab": {
          "base_uri": "https://localhost:8080/"
        },
        "outputId": "7cf4d177-c216-46bc-b8cc-88082881d0fc"
      },
      "execution_count": null,
      "outputs": [
        {
          "output_type": "stream",
          "name": "stdout",
          "text": [
            "1555 1555\n"
          ]
        }
      ]
    },
    {
      "cell_type": "markdown",
      "source": [
        "##Implementing the KNN algorithm using Sklearn"
      ],
      "metadata": {
        "id": "IQ3JyLWZLndw"
      }
    },
    {
      "cell_type": "code",
      "source": [
        "\n",
        "# n_neighbors should be an odd number\n",
        "model = KNeighborsClassifier(n_neighbors=7)\n",
        "\n",
        "model.fit(x_train, y_train)\n",
        "acc = model.score(x_test, y_test)\n",
        "print(acc)\n",
        "\n",
        "predicted = model.predict(x_test)\n",
        "names = [\"unacc\", \"acc\", \"good\", \"vgood\"]\n",
        "\n",
        "for x in range(10):\n",
        "  print(\"Predicted: \", names[predicted[x]], \"\\tData: \", x_test[x], \"\\tActual: \" , names[y_test[x]])"
      ],
      "metadata": {
        "colab": {
          "base_uri": "https://localhost:8080/"
        },
        "id": "ovP9_6OqIgO1",
        "outputId": "766b01d8-8847-48eb-e3c9-0b704691f5af"
      },
      "execution_count": null,
      "outputs": [
        {
          "output_type": "stream",
          "name": "stdout",
          "text": [
            "0.9132947976878613\n",
            "Predicted:  good \tData:  (3, 0, 2, 1, 0, 2) \tActual:  good\n",
            "Predicted:  acc \tData:  (2, 1, 3, 1, 1, 2) \tActual:  acc\n",
            "Predicted:  good \tData:  (1, 0, 1, 2, 2, 1) \tActual:  good\n",
            "Predicted:  good \tData:  (2, 3, 3, 0, 2, 1) \tActual:  good\n",
            "Predicted:  unacc \tData:  (0, 2, 1, 1, 2, 0) \tActual:  unacc\n",
            "Predicted:  good \tData:  (3, 3, 2, 2, 1, 0) \tActual:  good\n",
            "Predicted:  vgood \tData:  (1, 1, 3, 1, 1, 0) \tActual:  vgood\n",
            "Predicted:  unacc \tData:  (3, 1, 1, 1, 0, 0) \tActual:  unacc\n",
            "Predicted:  good \tData:  (2, 1, 1, 0, 0, 0) \tActual:  good\n",
            "Predicted:  good \tData:  (3, 0, 3, 1, 0, 0) \tActual:  good\n"
          ]
        }
      ]
    },
    {
      "cell_type": "markdown",
      "source": [
        "## Implementing the KNN algorithm using Tensorflow"
      ],
      "metadata": {
        "id": "gd57W-rpS02j"
      }
    },
    {
      "cell_type": "code",
      "source": [
        "import tensorflow as tf\n",
        "from tensorflow import keras\n",
        "import matplotlib.pyplot as plt"
      ],
      "metadata": {
        "id": "Rc8veiMbPMWZ"
      },
      "execution_count": null,
      "outputs": []
    },
    {
      "cell_type": "code",
      "source": [
        "#@title Define KNNModel class\n",
        "\n",
        "class KNNModel(keras.models.Model):\n",
        "  def __init__(self, k):\n",
        "    super(KNNModel, self).__init__()\n",
        "    self.k = k\n",
        "\n",
        "  # define call function to perform prediction based on the k-nearest neighbor\n",
        "  def call(self, x):\n",
        "    # calculate L2 (Euclidean) distance\n",
        "    dists = tf.norm(x - self.train_data, axis=1)\n",
        "\n",
        "    # find indices of k smallest distances\n",
        "    idxs = tf.math.top_k(-dists, k=self.k).indices  # top_k looks for maximum, that's why -dists\n",
        "\n",
        "    # gather labels corresponding to the indices\n",
        "    k_nearest_labels = tf.gather(self.train_labels, idxs)\n",
        "\n",
        "    # make prediction\n",
        "    unique_labels, counts = np.unique(k_nearest_labels, return_counts=True)\n",
        "    predicted_label = unique_labels[np.argmax(counts)]\n",
        "    return predicted_label\n",
        "\n"
      ],
      "metadata": {
        "id": "eXMzovVwOeNv"
      },
      "execution_count": null,
      "outputs": []
    },
    {
      "cell_type": "code",
      "source": [
        "X_np = np.array(X)\n",
        "y_np = np.array(y)\n",
        "\n",
        "x_train, x_test, y_train, y_test = sklearn.model_selection.train_test_split(X_np, y_np, train_size=0.9)\n",
        "\n",
        "knn_model = KNNModel(k=11)\n",
        "knn_model.train_data = x_train\n",
        "knn_model.train_labels = y_train"
      ],
      "metadata": {
        "id": "dRJgJ88ETSUZ"
      },
      "execution_count": null,
      "outputs": []
    },
    {
      "cell_type": "code",
      "source": [
        "correct_predictions = 0\n",
        "for i in range(len(x_test)):\n",
        "    prediction = knn_model(tf.convert_to_tensor(x_test[i], dtype=tf.float32))\n",
        "    if prediction == y_test[i]:\n",
        "        correct_predictions += 1\n",
        "\n",
        "accuracy = correct_predictions / len(x_test)\n",
        "print(\"Accuracy:\", accuracy)\n",
        "\n",
        "# Print some predictions\n",
        "names = [\"unacc\", \"acc  \", \"good \", \"vgood\"]\n",
        "for x in range(20):\n",
        "    prediction = knn_model(tf.convert_to_tensor(x_test[x], dtype=tf.float32))\n",
        "    print(\"Predicted:\", names[prediction],  \"\\tData:\", x_test[x], \"\\tActual:\", names[y_test[x]])\n",
        "\n"
      ],
      "metadata": {
        "colab": {
          "base_uri": "https://localhost:8080/"
        },
        "id": "3VEay7TlJit1",
        "outputId": "f787ebba-c9cd-48b9-8bf0-a395e20454f1"
      },
      "execution_count": null,
      "outputs": [
        {
          "output_type": "stream",
          "name": "stdout",
          "text": [
            "Accuracy: 0.930635838150289\n",
            "Predicted: good  \tData: [2 2 1 1 0 1] \tActual: good \n",
            "Predicted: unacc \tData: [2 1 2 1 1 2] \tActual: acc  \n",
            "Predicted: good  \tData: [3 1 2 0 1 1] \tActual: good \n",
            "Predicted: unacc \tData: [2 3 3 1 0 0] \tActual: unacc\n",
            "Predicted: good  \tData: [2 3 0 0 2 1] \tActual: good \n",
            "Predicted: good  \tData: [1 2 3 0 0 0] \tActual: good \n",
            "Predicted: unacc \tData: [2 2 1 1 1 2] \tActual: unacc\n",
            "Predicted: good  \tData: [0 3 2 2 0 1] \tActual: good \n",
            "Predicted: good  \tData: [1 2 2 2 1 1] \tActual: good \n",
            "Predicted: good  \tData: [0 1 2 0 1 1] \tActual: good \n",
            "Predicted: good  \tData: [3 2 1 0 1 2] \tActual: good \n",
            "Predicted: unacc \tData: [2 0 0 2 0 2] \tActual: unacc\n",
            "Predicted: good  \tData: [2 2 0 1 2 1] \tActual: good \n",
            "Predicted: good  \tData: [1 2 1 2 1 1] \tActual: good \n",
            "Predicted: unacc \tData: [0 1 3 1 0 0] \tActual: unacc\n",
            "Predicted: good  \tData: [1 2 3 2 0 1] \tActual: good \n",
            "Predicted: good  \tData: [0 1 3 0 2 0] \tActual: good \n",
            "Predicted: unacc \tData: [1 3 3 1 1 0] \tActual: unacc\n",
            "Predicted: unacc \tData: [1 0 2 2 2 0] \tActual: unacc\n",
            "Predicted: unacc \tData: [2 3 2 1 2 0] \tActual: unacc\n"
          ]
        }
      ]
    }
  ]
}