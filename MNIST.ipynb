{
  "nbformat": 4,
  "nbformat_minor": 0,
  "metadata": {
    "colab": {
      "provenance": []
    },
    "kernelspec": {
      "name": "python3",
      "display_name": "Python 3"
    },
    "language_info": {
      "name": "python"
    }
  },
  "cells": [
    {
      "cell_type": "code",
      "source": [
        "import tensorflow as tf\n",
        "from tensorflow import keras\n",
        "from keras.datasets import mnist\n",
        "import matplotlib.pyplot as plt\n",
        "import numpy as np\n",
        "from sklearn.preprocessing import OneHotEncoder\n",
        "import pandas as pd\n"
      ],
      "metadata": {
        "id": "OhWmXjPGAutZ"
      },
      "execution_count": null,
      "outputs": []
    },
    {
      "cell_type": "code",
      "execution_count": null,
      "metadata": {
        "colab": {
          "base_uri": "https://localhost:8080/",
          "height": 846
        },
        "id": "pXFJA7xuAALn",
        "outputId": "0aeeedb9-aca7-4dd1-ceb6-313dcf07f407"
      },
      "outputs": [
        {
          "output_type": "stream",
          "name": "stdout",
          "text": [
            "(60000, 28, 28, 1)\n"
          ]
        },
        {
          "output_type": "display_data",
          "data": {
            "text/plain": [
              "<Figure size 1000x1000 with 9 Axes>"
            ],
            "image/png": "[encoded data removed]"
          },
          "metadata": {}
        }
      ],
      "source": [
        "(x_train, y_train), (x_test, y_test) = mnist.load_data()\n",
        "\n",
        "x_train = x_train.reshape(len(x_train), 28, 28, 1)\n",
        "x_test = x_test.reshape(len(x_test), 28, 28, 1)\n",
        "# normalise data\n",
        "x_train_norm = x_train / 255\n",
        "x_test_norm = x_test / 255\n",
        "print(x_train_norm.shape)\n",
        "\n",
        "sample_idxs = np.random.choice(x_test.shape[0], size=9)\n",
        "fig, axs = plt.subplots(3, 3)\n",
        "fig.set_figheight(10)\n",
        "fig.set_figwidth(10)\n",
        "for i in range(9):\n",
        "  axs[i//3, i%3].imshow(x_train_norm[sample_idxs[i]], cmap=plt.get_cmap('gray'))\n",
        "  axs[i//3, i%3].axis('off')\n",
        "  axs[i//3, i%3].set_title(str(y_train[sample_idxs[i]]))\n"
      ]
    },
    {
      "cell_type": "code",
      "source": [
        "#@title One-hot encoding\n",
        "\n",
        "onehot_enc = OneHotEncoder(sparse_output=False)\n",
        "y_train = y_train.reshape(len(y_train), 1)\n",
        "y_onehot_train = onehot_enc.fit_transform(y_train)\n",
        "y_test = y_test.reshape(len(y_test), 1)\n",
        "y_onehot_test = onehot_enc.fit_transform(y_test)\n",
        "\n",
        "print(y_test[333])\n",
        "print(y_onehot_test[333])"
      ],
      "metadata": {
        "colab": {
          "base_uri": "https://localhost:8080/"
        },
        "id": "JUjJzIH7K0sR",
        "outputId": "d4f5c0f7-136d-46e7-c48e-845c13a0b0ec"
      },
      "execution_count": null,
      "outputs": [
        {
          "output_type": "stream",
          "name": "stdout",
          "text": [
            "[5]\n",
            "[0. 0. 0. 0. 0. 1. 0. 0. 0. 0.]\n"
          ]
        }
      ]
    },
    {
      "cell_type": "code",
      "source": [
        "#@title Define model and plotting function\n",
        "\n",
        "model = keras.models.Sequential()\n",
        "model.add(keras.layers.Conv2D(16, (3, 3), input_shape=(28,28,1), padding=\"same\", activation=\"relu\"))\n",
        "model.add(keras.layers.Flatten())\n",
        "model.add(keras.layers.Dense(20, activation=\"relu\"))\n",
        "model.add(keras.layers.Dropout(0.2))\n",
        "model.add(keras.layers.Dense(20, activation=\"relu\"))\n",
        "model.add(keras.layers.Dropout(0.2))\n",
        "model.add(keras.layers.Dense(10, activation=\"relu\"))\n",
        "model.add(keras.layers.Dropout(0.2))\n",
        "model.add(keras.layers.Dense(10, activation=\"softmax\"))\n",
        "\n",
        "# I'm using categorical_crossentropy because I'm using one-hot encoding\n",
        "# if I used integer labels I'd use sparse_categorical_crossentropy\n",
        "model.compile(optimizer=keras.optimizers.SGD(learning_rate=0.1), loss=\"categorical_crossentropy\", metrics=[\"accuracy\"])\n",
        "\n",
        "def plot_curve(epochs, hist, list_of_metrics):\n",
        "  plt.figure()\n",
        "  plt.xlabel(\"Epoch\")\n",
        "  plt.ylabel(\"Value\")\n",
        "\n",
        "  for m in list_of_metrics:\n",
        "    x = hist[m]\n",
        "    plt.plot(epochs[1:], x[1:], label=m)\n",
        "\n",
        "  plt.legend()"
      ],
      "metadata": {
        "id": "U0q5EegcOHuF"
      },
      "execution_count": null,
      "outputs": []
    },
    {
      "cell_type": "code",
      "source": [
        "#@title Train model\n",
        "\n",
        "early_stopping_callback = keras.callbacks.EarlyStopping(monitor='val_loss', patience=20)\n",
        "\n",
        "history = model.fit(x_train_norm, y_onehot_train, batch_size=128, epochs=50,\n",
        "                    verbose=True, callbacks=[early_stopping_callback],validation_split=0.1)\n",
        "\n",
        "epochs = history.epoch\n",
        "hist = pd.DataFrame(history.history)\n",
        "\n",
        "list_of_metrics_to_plot = ['accuracy']\n",
        "plot_curve(epochs=epochs, hist=hist, list_of_metrics=list_of_metrics_to_plot)\n"
      ],
      "metadata": {
        "colab": {
          "base_uri": "https://localhost:8080/",
          "height": 1000
        },
        "id": "XMv8ZDiwjBhs",
        "outputId": "5601b734-80bb-46a1-a5e2-bf4d336cbb6f"
      },
      "execution_count": null,
      "outputs": [
        {
          "output_type": "stream",
          "name": "stdout",
          "text": [
            "Epoch 1/50\n",
            "422/422 [==============================] - 9s 21ms/step - loss: 0.5689 - accuracy: 0.8240 - val_loss: 0.1655 - val_accuracy: 0.9627\n",
            "Epoch 2/50\n",
            "422/422 [==============================] - 9s 20ms/step - loss: 0.4928 - accuracy: 0.8499 - val_loss: 0.1345 - val_accuracy: 0.9703\n",
            "Epoch 3/50\n",
            "422/422 [==============================] - 9s 20ms/step - loss: 0.4485 - accuracy: 0.8644 - val_loss: 0.1268 - val_accuracy: 0.9722\n",
            "Epoch 4/50\n",
            "422/422 [==============================] - 9s 20ms/step - loss: 0.4182 - accuracy: 0.8747 - val_loss: 0.1291 - val_accuracy: 0.9722\n",
            "Epoch 5/50\n",
            "422/422 [==============================] - 8s 19ms/step - loss: 0.3923 - accuracy: 0.8834 - val_loss: 0.1264 - val_accuracy: 0.9712\n",
            "Epoch 6/50\n",
            "422/422 [==============================] - 9s 20ms/step - loss: 0.3670 - accuracy: 0.8914 - val_loss: 0.1152 - val_accuracy: 0.9762\n",
            "Epoch 7/50\n",
            "422/422 [==============================] - 9s 20ms/step - loss: 0.3492 - accuracy: 0.8960 - val_loss: 0.1062 - val_accuracy: 0.9760\n",
            "Epoch 8/50\n",
            "422/422 [==============================] - 9s 20ms/step - loss: 0.3439 - accuracy: 0.8975 - val_loss: 0.1114 - val_accuracy: 0.9748\n",
            "Epoch 9/50\n",
            "422/422 [==============================] - 8s 19ms/step - loss: 0.3282 - accuracy: 0.9027 - val_loss: 0.1121 - val_accuracy: 0.9750\n",
            "Epoch 10/50\n",
            "422/422 [==============================] - 9s 20ms/step - loss: 0.3226 - accuracy: 0.9039 - val_loss: 0.1093 - val_accuracy: 0.9793\n",
            "Epoch 11/50\n",
            "422/422 [==============================] - 9s 20ms/step - loss: 0.3120 - accuracy: 0.9041 - val_loss: 0.1217 - val_accuracy: 0.9775\n",
            "Epoch 12/50\n",
            "422/422 [==============================] - 9s 20ms/step - loss: 0.3116 - accuracy: 0.9047 - val_loss: 0.1052 - val_accuracy: 0.9777\n",
            "Epoch 13/50\n",
            "422/422 [==============================] - 8s 19ms/step - loss: 0.3020 - accuracy: 0.9076 - val_loss: 0.1040 - val_accuracy: 0.9782\n",
            "Epoch 14/50\n",
            "422/422 [==============================] - 9s 20ms/step - loss: 0.2996 - accuracy: 0.9105 - val_loss: 0.1193 - val_accuracy: 0.9768\n",
            "Epoch 15/50\n",
            "422/422 [==============================] - 9s 20ms/step - loss: 0.2919 - accuracy: 0.9117 - val_loss: 0.1210 - val_accuracy: 0.9782\n",
            "Epoch 16/50\n",
            "422/422 [==============================] - 9s 20ms/step - loss: 0.2832 - accuracy: 0.9148 - val_loss: 0.1190 - val_accuracy: 0.9780\n",
            "Epoch 17/50\n",
            "422/422 [==============================] - 8s 19ms/step - loss: 0.2825 - accuracy: 0.9145 - val_loss: 0.1083 - val_accuracy: 0.9802\n",
            "Epoch 18/50\n",
            "422/422 [==============================] - 9s 20ms/step - loss: 0.2806 - accuracy: 0.9152 - val_loss: 0.1078 - val_accuracy: 0.9810\n",
            "Epoch 19/50\n",
            "422/422 [==============================] - 9s 20ms/step - loss: 0.2644 - accuracy: 0.9213 - val_loss: 0.1172 - val_accuracy: 0.9743\n",
            "Epoch 20/50\n",
            "422/422 [==============================] - 9s 20ms/step - loss: 0.2652 - accuracy: 0.9210 - val_loss: 0.1141 - val_accuracy: 0.9787\n",
            "Epoch 21/50\n",
            "422/422 [==============================] - 8s 20ms/step - loss: 0.2644 - accuracy: 0.9193 - val_loss: 0.1135 - val_accuracy: 0.9788\n",
            "Epoch 22/50\n",
            "422/422 [==============================] - 8s 20ms/step - loss: 0.2602 - accuracy: 0.9222 - val_loss: 0.1036 - val_accuracy: 0.9788\n",
            "Epoch 23/50\n",
            "422/422 [==============================] - 9s 20ms/step - loss: 0.2595 - accuracy: 0.9212 - val_loss: 0.1229 - val_accuracy: 0.9790\n",
            "Epoch 24/50\n",
            "422/422 [==============================] - 9s 20ms/step - loss: 0.2528 - accuracy: 0.9237 - val_loss: 0.1026 - val_accuracy: 0.9802\n",
            "Epoch 25/50\n",
            "422/422 [==============================] - 8s 20ms/step - loss: 0.2610 - accuracy: 0.9220 - val_loss: 0.1087 - val_accuracy: 0.9792\n",
            "Epoch 26/50\n",
            "422/422 [==============================] - 8s 19ms/step - loss: 0.2512 - accuracy: 0.9250 - val_loss: 0.1104 - val_accuracy: 0.9795\n",
            "Epoch 27/50\n",
            "422/422 [==============================] - 9s 20ms/step - loss: 0.2473 - accuracy: 0.9256 - val_loss: 0.1191 - val_accuracy: 0.9800\n",
            "Epoch 28/50\n",
            "422/422 [==============================] - 9s 20ms/step - loss: 0.2503 - accuracy: 0.9235 - val_loss: 0.1187 - val_accuracy: 0.9813\n",
            "Epoch 29/50\n",
            "422/422 [==============================] - 9s 20ms/step - loss: 0.2344 - accuracy: 0.9286 - val_loss: 0.1506 - val_accuracy: 0.9777\n",
            "Epoch 30/50\n",
            "422/422 [==============================] - 8s 19ms/step - loss: 0.2381 - accuracy: 0.9265 - val_loss: 0.1265 - val_accuracy: 0.9810\n",
            "Epoch 31/50\n",
            "422/422 [==============================] - 9s 20ms/step - loss: 0.2405 - accuracy: 0.9264 - val_loss: 0.1279 - val_accuracy: 0.9830\n",
            "Epoch 32/50\n",
            "422/422 [==============================] - 9s 20ms/step - loss: 0.2401 - accuracy: 0.9264 - val_loss: 0.1138 - val_accuracy: 0.9808\n",
            "Epoch 33/50\n",
            "422/422 [==============================] - 9s 20ms/step - loss: 0.2284 - accuracy: 0.9307 - val_loss: 0.1262 - val_accuracy: 0.9823\n",
            "Epoch 34/50\n",
            "422/422 [==============================] - 8s 19ms/step - loss: 0.2305 - accuracy: 0.9285 - val_loss: 0.1088 - val_accuracy: 0.9837\n",
            "Epoch 35/50\n",
            "422/422 [==============================] - 9s 20ms/step - loss: 0.2308 - accuracy: 0.9295 - val_loss: 0.1213 - val_accuracy: 0.9832\n",
            "Epoch 36/50\n",
            "422/422 [==============================] - 9s 20ms/step - loss: 0.2286 - accuracy: 0.9306 - val_loss: 0.1312 - val_accuracy: 0.9817\n",
            "Epoch 37/50\n",
            "422/422 [==============================] - 9s 20ms/step - loss: 0.2270 - accuracy: 0.9298 - val_loss: 0.1384 - val_accuracy: 0.9802\n",
            "Epoch 38/50\n",
            "422/422 [==============================] - 8s 19ms/step - loss: 0.2334 - accuracy: 0.9282 - val_loss: 0.1282 - val_accuracy: 0.9787\n",
            "Epoch 39/50\n",
            "422/422 [==============================] - 9s 20ms/step - loss: 0.2249 - accuracy: 0.9309 - val_loss: 0.1332 - val_accuracy: 0.9828\n",
            "Epoch 40/50\n",
            "422/422 [==============================] - 9s 20ms/step - loss: 0.2269 - accuracy: 0.9312 - val_loss: 0.1538 - val_accuracy: 0.9818\n",
            "Epoch 41/50\n",
            "422/422 [==============================] - 9s 20ms/step - loss: 0.2242 - accuracy: 0.9312 - val_loss: 0.1218 - val_accuracy: 0.9802\n",
            "Epoch 42/50\n",
            "422/422 [==============================] - 8s 20ms/step - loss: 0.2189 - accuracy: 0.9331 - val_loss: 0.1359 - val_accuracy: 0.9817\n",
            "Epoch 43/50\n",
            "422/422 [==============================] - 9s 20ms/step - loss: 0.2200 - accuracy: 0.9326 - val_loss: 0.1458 - val_accuracy: 0.9790\n",
            "Epoch 44/50\n",
            "422/422 [==============================] - 9s 22ms/step - loss: 0.2170 - accuracy: 0.9328 - val_loss: 0.1379 - val_accuracy: 0.9815\n"
          ]
        },
        {
          "output_type": "display_data",
          "data": {
            "text/plain": [
              "<Figure size 640x480 with 1 Axes>"
            ],
            "image/png": "[encoded data removed]"
          },
          "metadata": {}
        }
      ]
    },
    {
      "cell_type": "code",
      "source": [
        "y_preds = model.predict(x_test_norm)\n",
        "y_pred_labels = np.argmax(y_preds, axis=1)\n",
        "y_pred_true = np.argmax(y_onehot_test, axis=1)\n",
        "\n",
        "test_ce, test_acc = model.evaluate(x_test_norm, y_onehot_test, verbose=False)\n",
        "print(\"Test crossentropy cost: \", test_ce)\n",
        "print(\"Test accuracy: \", test_acc)"
      ],
      "metadata": {
        "colab": {
          "base_uri": "https://localhost:8080/"
        },
        "id": "KZcs4zNapBDv",
        "outputId": "6b6297e6-42bd-485d-f842-7ec97873e2f3"
      },
      "execution_count": null,
      "outputs": [
        {
          "output_type": "stream",
          "name": "stdout",
          "text": [
            "313/313 [==============================] - 1s 3ms/step\n",
            "Test crossentropy cost:  0.1496056616306305\n",
            "Test accuracy:  0.9782999753952026\n"
          ]
        }
      ]
    }
  ]
}